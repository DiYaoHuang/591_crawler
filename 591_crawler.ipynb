{
 "cells": [
  {
   "cell_type": "markdown",
   "metadata": {},
   "source": [
    "# [crawler example: 591 - requests.get with params]"
   ]
  },
  {
   "cell_type": "code",
   "execution_count": 1,
   "metadata": {},
   "outputs": [],
   "source": [
    "import pandas as pd\n",
    "import requests"
   ]
  },
  {
   "cell_type": "code",
   "execution_count": 2,
   "metadata": {},
   "outputs": [],
   "source": [
    "url = 'https://rent.591.com.tw/home/search/rsList?is_new_list=1&type=1&kind=0&searchtype=1&region=3&firstRow=60&totalRows=8192'\n",
    "params_str = url.split('?')[1]\n",
    "params = dict()\n",
    "for i in params_str.split('&'):\n",
    "    tmp = i.split('=')\n",
    "    params[tmp[0]] = tmp[1]"
   ]
  },
  {
   "cell_type": "code",
   "execution_count": 5,
   "metadata": {},
   "outputs": [],
   "source": [
    "url_main = 'https://rent.591.com.tw/home/search/rsList'\n",
    "page_per_count = 30\n",
    "df = pd.DataFrame([])\n",
    "params = {'firstRow': '0',\n",
    " 'is_new_list': '1',\n",
    " 'kind': '0',\n",
    " 'region': '3',\n",
    " 'searchtype': '1',\n",
    " 'totalRows': '8193',\n",
    " 'type': '1'}\n",
    "headers = {\n",
    "   'Cookie': 'webp=1; PHPSESSID=cil0d8i31q4ou4vvgnm65p71q7; is_new_index=1; is_new_index_redirect=1; T591_TOKEN=cil0d8i31q4ou4vvgnm65p71q7; _ga=GA1.3.1460103694.1532579932; _ga=GA1.4.1460103694.1532579932; _gid=GA1.3.115974707.1533187563; c10f3143a018a0513ebe1e8d27b5391c=1; _gid=GA1.4.115974707.1533187563; new_rent_list_kind_test=0; loginNoticeStatus=1; loginNoticeNumber=1; cto_lwid=2c8f8a53-f9fd-49c0-91b4-348e770ef1fb; __asc=53468424164f923057bd97cd402; __auc=53468424164f923057bd97cd402; urlJumpIp=3; urlJumpIpByTxt=%E6%96%B0%E5%8C%97%E5%B8%82; ba_cid=a%3A5%3A%7Bs%3A6%3A%22ba_cid%22%3Bs%3A32%3A%22f027cfb18205aba5d0cf210b3feb5fbb%22%3Bs%3A7%3A%22page_ex%22%3Bs%3A110%3A%22https%3A%2F%2Fnewhouse.591.com.tw%2Findex.php%3FfirstRow%3D20%26totalRows%3D81%26rid%3D3%26sid%3D46%26sids%3D46%26module%3Dhousing%26action%3Dlist%22%3Bs%3A4%3A%22page%22%3Bs%3A55%3A%22https%3A%2F%2Fnewhouse.591.com.tw%2Fhousing-list.html%3F%26keyword%3D%22%3Bs%3A7%3A%22time_ex%22%3Bi%3A1533189196%3Bs%3A4%3A%22time%22%3Bi%3A1533189385%3B%7D; last_search_type=1; index_keyword_search_analysis=%7B%22role%22%3A%222%22%2C%22type%22%3A1%2C%22keyword%22%3A%22%22%2C%22selectKeyword%22%3A%22%22%2C%22menu%22%3A%22%22%2C%22hasHistory%22%3A0%2C%22hasPrompt%22%3A0%2C%22history%22%3A0%7D; _gat_UA-97423186-1=1; DETAIL[1][6638702]=1; house9d948b9639bc3c7336ce0398fe0eda87=1; user_index_role=1; user_browse_recent=a%3A2%3A%7Bi%3A0%3Ba%3A2%3A%7Bs%3A4%3A%22type%22%3Bi%3A1%3Bs%3A7%3A%22post_id%22%3Bs%3A7%3A%226638702%22%3B%7Di%3A1%3Ba%3A2%3A%7Bs%3A4%3A%22type%22%3Bi%3A8%3Bs%3A7%3A%22post_id%22%3Bi%3A111859%3B%7D%7D; 591_new_session=eyJpdiI6ImJrYXREZzhkTUdcL1wvU0hUM01oc1dBdz09IiwidmFsdWUiOiJ5SzY1VWkzNEdBZGVYVitoVzVyTE5GbzRzZVp0SjRVTkJMeFRQdW5sMHJXV3ROK1JQcU5jV2N4dGsxM0xSdXBIaG11OE96ZzZ1SlRCR0drS3FhXC9VZVE9PSIsIm1hYyI6IjZkOTM4Mjg5NjYwZmVkYWJhYWRlZWZlYmE4MDdkZmVlYTE3MWUyNjIwNmUwN2FmY2E0ODg1YjdjMmFhMmY0YzEifQ%3D%3D',\n",
    "   'User-Agent':'Mozilla/5.0 (Macintosh; Intel Mac OS X 10_13_4) AppleWebKit/537.36 (KHTML, like Gecko) Chrome/67.0.3396.99 Safari/537.36'\n",
    "}"
   ]
  },
  {
   "cell_type": "code",
   "execution_count": 6,
   "metadata": {},
   "outputs": [],
   "source": [
    "for page in range(1,3+1):\n",
    "    params['firstRow'] = 0 + page_per_count * (page -1)\n",
    "    res = requests.get(url_main,params=params,headers=headers)\n",
    "    df_ = pd.DataFrame(res.json()['data']['data'])\n",
    "    df = pd.concat([df,df_])\n",
    "df.reset_index(drop=True)"
   ]
  },
  {
   "cell_type": "code",
   "execution_count": null,
   "metadata": {},
   "outputs": [],
   "source": []
  }
 ],
 "metadata": {
  "kernelspec": {
   "display_name": "Python 3",
   "language": "python",
   "name": "python3"
  },
  "language_info": {
   "codemirror_mode": {
    "name": "ipython",
    "version": 3
   },
   "file_extension": ".py",
   "mimetype": "text/x-python",
   "name": "python",
   "nbconvert_exporter": "python",
   "pygments_lexer": "ipython3",
   "version": "3.6.5"
  }
 },
 "nbformat": 4,
 "nbformat_minor": 2
}
